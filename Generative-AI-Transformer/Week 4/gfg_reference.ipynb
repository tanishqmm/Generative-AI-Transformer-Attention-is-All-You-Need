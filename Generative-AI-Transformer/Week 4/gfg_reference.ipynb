{
  "nbformat": 4,
  "nbformat_minor": 0,
  "metadata": {
    "colab": {
      "provenance": []
    },
    "kernelspec": {
      "name": "python3",
      "display_name": "Python 3"
    },
    "language_info": {
      "name": "python"
    }
  },
  "cells": [
    {
      "cell_type": "code",
      "execution_count": null,
      "metadata": {
        "id": "Hre3qwDoP_Iu"
      },
      "outputs": [],
      "source": [
        "import numpy as np\n",
        "import tensorflow as tf\n",
        "from tensorflow.keras.layers import Dense, LayerNormalization, Dropout, Embedding"
      ]
    },
    {
      "cell_type": "code",
      "source": [
        "def positional_encoding(position,d_model):\n",
        "    angle_rads = np.arange(position)[:,np.newaxis]/np.power(10000,2*(np.arange(d_model)//2)/np.float32(d_model))\n",
        "    angle_rads[:, 0::2] = np.sin(angle_rads[:, 0::2])\n",
        "    angle_rads[:, 1::2] = np.cos(angle_rads[:, 1::2])\n",
        "    pos_encoding = angle_rads[np.newaxis, ...]\n",
        "    return tf.cast(pos_encoding,dtype=tf.float32)\n",
        "\n",
        "\n",
        "\n",
        "# position = 50 ##length of sequence\n",
        "# d_model = 512 #dimensionality of models output\n",
        "# pos_encoding = positional_encoding(position, d_model)\n",
        "# print(pos_encoding)\n"
      ],
      "metadata": {
        "id": "6v6mMElOQBrC"
      },
      "execution_count": null,
      "outputs": []
    },
    {
      "cell_type": "code",
      "source": [
        "## Multi Head Attention\n",
        "\n",
        "class MultiHeadAttention(tf.keras.layers.Layer):\n",
        "  def __init__(self,d_model,num_heads):\n",
        "     super().__init__()\n",
        "     self.d_model = d_model\n",
        "     self.num_heads = num_heads\n",
        "     assert d_model%num_heads==0\n",
        "\n",
        "     self.depth = d_model//num_heads\n",
        "\n",
        "     self.wq = Dense(d_model)\n",
        "     self.wv = Dense(d_model)\n",
        "     self.wk = Dense(d_model)\n",
        "     self.dense = Dense(d_model)\n",
        "\n",
        "  def splitHead(self,x,batch_size):\n",
        "    x = tf.reshape(x,(batch_size,-1,self.num_heads,self.depth))\n",
        "    return tf.transpose(x,perm=[0,2,1,3])\n",
        "\n",
        "  def call(self,q,k,v,mask):\n",
        "    q = self.wq(q)\n",
        "    k = self.wk(k)\n",
        "    v = self.wv(v)\n",
        "\n",
        "    batch_size = tf.shape(q)[0]\n",
        "\n",
        "    q = self.split_heads(q, batch_size)\n",
        "    k = self.split_heads(k, batch_size)\n",
        "    v = self.split_heads(v, batch_size)\n",
        "\n",
        "    attention,attention_weights = self.scaled_dotproduct_attention(q,k,v,mask)\n",
        "\n",
        "    attention = tf.transpose(attention, perm=[0, 2, 1, 3])\n",
        "    attention = tf.reshape(attention,(batch_size,-1,self.d_model))\n",
        "    output = self.dense(attention)\n",
        "    return output\n",
        "\n",
        "\n",
        "  def scaled_dotproduct_attention(self,q,k,v,mask):\n",
        "    qkt = tf.matmul(q,k,transpose_b=1)\n",
        "    dk = tf.cast(tf.shape(k)[-1],tf.float32)\n",
        "    scaled_attention_logits = qkt/tf.math.sqrt(dk)\n",
        "\n",
        "    if mask is not None:\n",
        "      scaled_attention_logits += mask* -1e9\n",
        "\n",
        "    attention_weights = tf.nn.softmax(scaled_attention_logits,axis=-1)\n",
        "    output = tf.matmul(attention_weights,v)\n",
        "    return output, attention_weights\n",
        "\n",
        "\n"
      ],
      "metadata": {
        "id": "7QFvU5i0SibU"
      },
      "execution_count": null,
      "outputs": []
    },
    {
      "cell_type": "code",
      "source": [
        "##Feed Forward Network\n",
        "\n",
        "class PositionWiseFeedForward(tf.keras.layers.Layer):\n",
        "  def __init__(self,d_model,dff):\n",
        "     super().__init__()\n",
        "     self.d_model = d_model\n",
        "     self.dff=dff\n",
        "     self.layer1 = Dense(self.dff, activation=\"relu\")\n",
        "     self.layer2 = Dense(self.d_model)\n",
        "\n",
        "  def call(self,input):\n",
        "    x = self.layer1(input)\n",
        "    x = self.layer2(x)\n",
        "    return x\n"
      ],
      "metadata": {
        "id": "K_DQatj3Qot8"
      },
      "execution_count": null,
      "outputs": []
    },
    {
      "cell_type": "code",
      "source": [
        "class TransformerBlock(tf.keras.layers.Layer):\n",
        "  def __init__(self,d_model,num_heads,dff,dropout_rate=0.1):\n",
        "    super().__init__()\n",
        "    self.att = MultiHeadAttention(d_model,num_heads)\n",
        "    self.ffn = PositionWiseFeedForward(d_model,dff)\n",
        "    self.layer1nor = LayerNormalization(epsilon = 1e-6)\n",
        "    self.layer2nor = LayerNormalization(epsilon = 1e-6)\n",
        "    self.droplayer1 = Dropout(dropout_rate)\n",
        "    self.droplayer2 = Dropout(dropout_rate)\n",
        "\n",
        "  def call(self,x,training,mask):\n",
        "    attn_output = self.att(x,x,x,mask)\n",
        "    attn_output = self.droplayer1(attn_output,training = training)\n",
        "    out1 = self.layer1nor(x+attn_output)\n",
        "    ffn_out = self.ffn(out1)\n",
        "    ffn_out = self.droplayer2(ffn_out, training=training)\n",
        "    out2 = self.layer2nor(x+ffn_out)\n",
        "    return out2\n",
        "\n"
      ],
      "metadata": {
        "id": "xPWXmI73SYnk"
      },
      "execution_count": null,
      "outputs": []
    },
    {
      "cell_type": "code",
      "source": [
        "class Encoder(tf.keras.layers.Layer):\n",
        "  def __init__(self,num_layers,d_model,num_heads,dff,input_vocab_size,maximum_position_encoding, dropout_rate=0.1):\n",
        "    super().__init__()\n",
        "    self.d_model = d_model\n",
        "    self.num_layers = num_layers\n",
        "    self.embedding = Embedding(input_vocab_size,d_model)\n",
        "    self.pos_encoding = positional_encoding(maximum_position_encoding,d_model)\n",
        "    self.dropout = Dropout(dropout_rate)\n",
        "    self.enc_layers = [TransformerBlock(d_model,num_heads,dff,dropout_rate) for _ in range(num_layers)]\n",
        "\n",
        "  def call(self,x,training,mask):\n",
        "    seq_len = tf.shape(x)[1]\n",
        "    x = self.embedding(x)\n",
        "    x+=self.pos_encoding[:,:seq_len, :]\n",
        "    x = self.dropout(x, training = training)\n",
        "    for i in range(self.num_layers):\n",
        "      x = self.enc_layers[i](x, training, mask)\n",
        "    return x\n"
      ],
      "metadata": {
        "id": "E45mRDPNZo_l"
      },
      "execution_count": null,
      "outputs": []
    },
    {
      "cell_type": "code",
      "source": [
        "class Decoder(tf.keras.layers.Layer):\n",
        "  def __init__(self,num_layers,d_model,num_heads,dff,target_vocab_size, maximum_position_encoding, dropout_rate = 0.1):\n",
        "    super().__init__()\n",
        "    self.d_model = d_model\n",
        "    self.num_layers = num_layers\n",
        "    self.embedding = Embedding(target_vocab_size,d_model)\n",
        "    self.pos_encoding = positional_encoding(maximum_position_encoding, d_model)\n",
        "    self.dropout = Dropout(dropout_rate)\n",
        "    self.dec_layer = [TransformerBlock(d_model,num_heads, dff, dropout_rate) for _ in range(num_layers)]\n",
        "\n",
        "  def call(self,x,enc_output,training, look_ahead_mask, padding_mask):\n",
        "    seq_length = tf.shape(x)[1]\n",
        "    attention_weights = {}\n",
        "    x = self.embedding(x)\n",
        "    x+=self.pos_encoding[:,:seq_length, :]\n",
        "    x = self.dropout(x,training=training)\n",
        "\n"
      ],
      "metadata": {
        "id": "dWnJ94F8Z0CG",
        "colab": {
          "base_uri": "https://localhost:8080/",
          "height": 106
        },
        "outputId": "3a6f0aba-711f-42a4-9c16-0c6d1f81aac5"
      },
      "execution_count": null,
      "outputs": [
        {
          "output_type": "error",
          "ename": "SyntaxError",
          "evalue": "incomplete input (<ipython-input-7-d93b77958ea9>, line 13)",
          "traceback": [
            "\u001b[0;36m  File \u001b[0;32m\"<ipython-input-7-d93b77958ea9>\"\u001b[0;36m, line \u001b[0;32m13\u001b[0m\n\u001b[0;31m    \u001b[0m\n\u001b[0m    ^\u001b[0m\n\u001b[0;31mSyntaxError\u001b[0m\u001b[0;31m:\u001b[0m incomplete input\n"
          ]
        }
      ]
    }
  ]
}