{
 "cells": [
  {
   "cell_type": "code",
   "execution_count": 13,
   "metadata": {},
   "outputs": [],
   "source": [
    "import numpy as np\n",
    "import math\n"
   ]
  },
  {
   "cell_type": "code",
   "execution_count": 14,
   "metadata": {},
   "outputs": [],
   "source": [
    "class Perceptron(object):\n",
    "    def __init__(self):\n",
    "        self.inputLayerSize=2\n",
    "        self.outputLayerSize=1\n",
    "        self.W1= np.random.randn(self.inputLayerSize,1)\n",
    "        self.bias = 0\n",
    "\n",
    "    def sigmoid(self,z):\n",
    "        return 1/(1+np.exp(-z))\n",
    "\n",
    "    def sigmoidprime(self,z):\n",
    "        return np.exp(-z)/((1+np.exp(-z))**2)\n",
    "    \n",
    "    def forward(self,X):\n",
    "        self.z2 = X@self.W1 + self.bias\n",
    "        yHat = self.sigmoid(self.z2)\n",
    "        return yHat\n",
    "    \n",
    "    def costFunction(self,X,y):\n",
    "        yHat = self.forward(X)\n",
    "        cost = (-1/y.shape[0])*np.sum(y*np.log(yHat)+(1-y)*np.log(1-yHat),axis=0)\n",
    "        return cost\n",
    "\n",
    "    def costFunctionPrime(self,X,y):\n",
    "        yHat = self.forward(X)\n",
    "        delta = ((-y/yHat + (1-y)/(1-yHat))* self.sigmoidprime(yHat))/y.shape[0]\n",
    "        dJdW1= X.T@delta\n",
    "        dJdb = delta\n",
    "        return dJdW1,delta\n",
    "\n",
    "    def train(self, X, Y):\n",
    "        cost = self.costFunction(X,Y)\n",
    "        previous_cost = cost+1\n",
    "        wprime, bprime = self.costFunctionPrime(X,Y)\n",
    "        for _ in range(500):\n",
    "            # print(self.weights, self.bias)\n",
    "            self.W1-=wprime\n",
    "            self.bias-=bprime\n",
    "            previous_cost = cost\n",
    "            cost = self.costFunction(X,Y)\n",
    "            # print(cost)\n",
    "            wprime, bprime = self.costFunctionPrime(X,Y)\n",
    "        return self.W1, self.bias\n",
    "\n",
    "    def predict(self, X):\n",
    "        predictions = self.forward(X)\n",
    "        for i in range(len(predictions)):\n",
    "            if(predictions[i]>=0.5):\n",
    "                predictions[i] = 1\n",
    "            else:\n",
    "                predictions[i] = 0\n",
    "        return predictions"
   ]
  },
  {
   "cell_type": "code",
   "execution_count": 15,
   "metadata": {},
   "outputs": [
    {
     "name": "stdout",
     "output_type": "stream",
     "text": [
      "[[1.]\n",
      " [0.]\n",
      " [0.]\n",
      " [0.]]\n"
     ]
    }
   ],
   "source": [
    "And = Perceptron()\n",
    "X = np.array([[1,1],[1,0],[0,1],[0,0]])\n",
    "Y = np.array([[1],[0],[0],[0]])\n",
    "And.train(X,Y)\n",
    "print(And.predict(X))"
   ]
  }
 ],
 "metadata": {
  "kernelspec": {
   "display_name": "Python 3",
   "language": "python",
   "name": "python3"
  },
  "language_info": {
   "codemirror_mode": {
    "name": "ipython",
    "version": 3
   },
   "file_extension": ".py",
   "mimetype": "text/x-python",
   "name": "python",
   "nbconvert_exporter": "python",
   "pygments_lexer": "ipython3",
   "version": "3.12.2"
  }
 },
 "nbformat": 4,
 "nbformat_minor": 2
}
