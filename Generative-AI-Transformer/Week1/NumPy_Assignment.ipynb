{
 "cells": [
  {
   "cell_type": "markdown",
   "metadata": {
    "id": "MbvsDuzLano5"
   },
   "source": [
    "# **Working with NumPy**\n",
    "In this assignment, you will be familiarized with the usage of the NumPy library and how to use vectorization to speed up computations in comparision to iterative approaches.\n",
    "\n",
    "You are to only write/modify the code in between consecutive `# < START >` and `# < END >` comments. DO NOT modify other parts of the notebook, your assignments will not be graded otherwise.\n",
    "```python\n",
    "\"Don't modify any code here\"\n",
    "\n",
    "# < START >\n",
    "\"YOUR CODE GOES HERE!\"\n",
    "# < END >\n",
    "\n",
    "\"Don't modify any code here\"\n",
    "```\n",
    "\n",
    "<!---Need to include clarification about arrays?-->\n",
    "\n",
    "**Start by running the below cell, to import the NumPy library.**"
   ]
  },
  {
   "cell_type": "code",
   "execution_count": 1,
   "metadata": {
    "id": "GHqaQIZwaqrb"
   },
   "outputs": [],
   "source": [
    "import numpy as np"
   ]
  },
  {
   "cell_type": "markdown",
   "metadata": {
    "id": "7_q9CV0oqiQE"
   },
   "source": [
    "### **Initializating Arrays**\n",
    "NumPy offers multiple methods to create and populate arrays\n",
    "- Create a $2\\times3$ array identical to\n",
    "$\\begin{bmatrix}\n",
    "1 & 2 & 4\\\\\n",
    "7 & 13 & 21\\\\\n",
    "\\end{bmatrix}$, and assign it to a variable `arr`.  "
   ]
  },
  {
   "cell_type": "code",
   "execution_count": 2,
   "metadata": {
    "id": "DOSodBqMsPFx"
   },
   "outputs": [
    {
     "name": "stdout",
     "output_type": "stream",
     "text": [
      "[[ 1  2  4]\n",
      " [ 7 13 21]]\n",
      "Shape: (2, 3)\n"
     ]
    }
   ],
   "source": [
    "# < START >\n",
    "\n",
    "# < END >\n",
    "arr = np.array([[1,2,4],[7,13,21]])\n",
    "print(arr)\n",
    "print(\"Shape:\", arr.shape)"
   ]
  },
  {
   "cell_type": "markdown",
   "metadata": {
    "id": "ow7eYNN0uqOc"
   },
   "source": [
    "You should be able to see that the `shape` property of an array lets you access its dimensions.  \n",
    "For us, this is a handy way to ensure that the dimensions of an array are what we expect, allowing us to easily debug programs."
   ]
  },
  {
   "cell_type": "markdown",
   "metadata": {
    "id": "3sRFnmJrWY0S"
   },
   "source": [
    "- Initialize a NumPy array `x` of dimensions $2\\times3$ with random values.  \n",
    "Do not use the values of the dimensions directly, instead use the variables provided as arguments.\n",
    "<details>\n",
    "  <summary>Hint</summary>\n",
    "  <a href=\"https://numpy.org/doc/stable/reference/random/generated/numpy.random.randn.html#numpy-random-randn\">np.random.randn()</a>\n",
    "</details>"
   ]
  },
  {
   "cell_type": "code",
   "execution_count": 4,
   "metadata": {
    "id": "VVrePkvxW2K9"
   },
   "outputs": [
    {
     "name": "stdout",
     "output_type": "stream",
     "text": [
      "[[0.81624948 0.60994854 0.17561999]\n",
      " [0.06144893 0.74695068 0.51016041]]\n"
     ]
    }
   ],
   "source": [
    "n_rows = 2\n",
    "n_columns = 3\n",
    "\n",
    "# <START>\n",
    "x = np.random.sample((n_rows, n_columns))\n",
    "# <END>\n",
    "\n",
    "print(x)"
   ]
  },
  {
   "cell_type": "markdown",
   "metadata": {
    "id": "j7XlM8Bwchhm"
   },
   "source": [
    "A few more basic methods to initialize arrays exist.\n",
    "Feel free to read up online to complete the code snippets."
   ]
  },
  {
   "cell_type": "code",
   "execution_count": 5,
   "metadata": {
    "id": "hG59Eh_edKNy"
   },
   "outputs": [
    {
     "name": "stdout",
     "output_type": "stream",
     "text": [
      "[[[0. 0.]\n",
      "  [0. 0.]\n",
      "  [0. 0.]\n",
      "  [0. 0.]\n",
      "  [0. 0.]]\n",
      "\n",
      " [[0. 0.]\n",
      "  [0. 0.]\n",
      "  [0. 0.]\n",
      "  [0. 0.]\n",
      "  [0. 0.]]\n",
      "\n",
      " [[0. 0.]\n",
      "  [0. 0.]\n",
      "  [0. 0.]\n",
      "  [0. 0.]\n",
      "  [0. 0.]]\n",
      "\n",
      " [[0. 0.]\n",
      "  [0. 0.]\n",
      "  [0. 0.]\n",
      "  [0. 0.]\n",
      "  [0. 0.]]]\n",
      "[[[1. 1.]\n",
      "  [1. 1.]\n",
      "  [1. 1.]\n",
      "  [1. 1.]\n",
      "  [1. 1.]]\n",
      "\n",
      " [[1. 1.]\n",
      "  [1. 1.]\n",
      "  [1. 1.]\n",
      "  [1. 1.]\n",
      "  [1. 1.]]\n",
      "\n",
      " [[1. 1.]\n",
      "  [1. 1.]\n",
      "  [1. 1.]\n",
      "  [1. 1.]\n",
      "  [1. 1.]]\n",
      "\n",
      " [[1. 1.]\n",
      "  [1. 1.]\n",
      "  [1. 1.]\n",
      "  [1. 1.]\n",
      "  [1. 1.]]]\n"
     ]
    }
   ],
   "source": [
    "# < START >\n",
    "# Initialize an array ZERO_ARR of dimensions (4, 5, 2) whose every element is 0\n",
    "\n",
    "# < END >\n",
    "ZERO_ARR = np.zeros((4,5,2))\n",
    "print(ZERO_ARR)\n",
    "\n",
    "# < START >\n",
    "# Initialize an array ONE_ARR of dimensions (4, 5, 2) whose every element is 1\n",
    "\n",
    "# < END >\n",
    "ONE_ARR = np.ones((4,5,2))\n",
    "print(ONE_ARR)"
   ]
  },
  {
   "cell_type": "markdown",
   "metadata": {
    "id": "19eX-3suIKcF"
   },
   "source": [
    "You can also transpose arrays (same as with matrices), but a more general and commonly used function is the `array.reshape()` function.\n",
    "\n",
    "$$\n",
    "\\begin{bmatrix}\n",
    "a & d\\\\\n",
    "b & e\\\\\n",
    "c & f\\\\\n",
    "\\end{bmatrix}\n",
    "\\xleftarrow{\\text{.T}}\n",
    "\\begin{bmatrix}\n",
    "a & b & c\\\\\n",
    "d & e & f\\\\\n",
    "\\end{bmatrix}\n",
    "\\xrightarrow{\\text{.reshape(3, 2)}}\n",
    "\\begin{bmatrix}\n",
    "a & b\\\\\n",
    "c & d\\\\\n",
    "e & f\\\\\n",
    "\\end{bmatrix}\n",
    "\\xrightarrow{\\text{.reshape(6,1)}}\n",
    "\\begin{bmatrix}\n",
    "a\\\\b\\\\c\\\\d\\\\e\\\\f\\\\\n",
    "\\end{bmatrix}\n",
    "$$\n",
    "`reshape` is commonly used to flatten data stored in multi-dimensional arrays (ex: a 2D array representing a B/W image)\n",
    "\n",
    "- Try it out yourself:"
   ]
  },
  {
   "cell_type": "code",
   "execution_count": 13,
   "metadata": {
    "id": "72poNlj4H4dv"
   },
   "outputs": [
    {
     "name": "stdout",
     "output_type": "stream",
     "text": [
      "[[1 4]\n",
      " [2 5]\n",
      " [3 6]]\n",
      "[[1]\n",
      " [2]\n",
      " [3]\n",
      " [4]\n",
      " [5]\n",
      " [6]]\n"
     ]
    }
   ],
   "source": [
    "y = np.array([[1, 2, 3],\n",
    "              [4, 5, 6]])\n",
    "\n",
    "# < START >\n",
    "# Create a new array y_transpose that is the transpose of matrix y\n",
    "y_transpose = np.transpose(y)\n",
    "# < END >\n",
    "\n",
    "print(y_transpose)\n",
    "\n",
    "# < START >\n",
    "# Create a new array y_flat that contains the same elements as y but has been flattened to a column array\n",
    "\n",
    "# < END >\n",
    "y_flat = y.reshape((np.prod(y.shape), 1))\n",
    "print(y_flat)"
   ]
  },
  {
   "cell_type": "markdown",
   "metadata": {
    "id": "OmHhW0gtXn4C"
   },
   "source": [
    "- Create a `y` with dimensions $3\\times1$ (column matrix), with elements $4,7$ and $11$.  \n",
    "$$y = \\begin{bmatrix}\n",
    "4\\\\\n",
    "7\\\\\n",
    "11\n",
    "\\end{bmatrix}$$  "
   ]
  },
  {
   "cell_type": "code",
   "execution_count": 6,
   "metadata": {
    "id": "_OB_fi7zW57S"
   },
   "outputs": [
    {
     "name": "stdout",
     "output_type": "stream",
     "text": [
      "[ 4  7 11]\n"
     ]
    },
    {
     "ename": "NameError",
     "evalue": "name 'z' is not defined",
     "output_type": "error",
     "traceback": [
      "\u001b[1;31m---------------------------------------------------------------------------\u001b[0m",
      "\u001b[1;31mNameError\u001b[0m                                 Traceback (most recent call last)",
      "Cell \u001b[1;32mIn[6], line 20\u001b[0m\n\u001b[0;32m     11\u001b[0m \u001b[38;5;28mprint\u001b[39m(y)\n\u001b[0;32m     13\u001b[0m \u001b[38;5;66;03m# <START>\u001b[39;00m\n\u001b[0;32m     14\u001b[0m \u001b[38;5;66;03m# Multiply both the arrays here\u001b[39;00m\n\u001b[0;32m     15\u001b[0m \n\u001b[0;32m     16\u001b[0m \u001b[38;5;66;03m# <END>\u001b[39;00m\n\u001b[0;32m     17\u001b[0m \n\u001b[0;32m     18\u001b[0m \u001b[38;5;66;03m# assert z.shape == (2, 1)\u001b[39;00m\n\u001b[1;32m---> 20\u001b[0m \u001b[38;5;28mprint\u001b[39m(\u001b[43mz\u001b[49m)\n",
      "\u001b[1;31mNameError\u001b[0m: name 'z' is not defined"
     ]
    }
   ],
   "source": [
    "# <START>\n",
    "# Initialize the column matrix here\n",
    "y = np.array([4,7,11])\n",
    "y = np.transpose(y)\n",
    "# <END>\n",
    "\n",
    "# assert y.shape == (3, 1)\n",
    "# The above line is an assert statement, which halts the program if the given condition evaluates to False.\n",
    "# Assert statements are frequently used in neural network programs to ensure our matrices are of the right dimensions.\n",
    "\n",
    "print(y)\n",
    "\n",
    "# <START>\n",
    "# Multiply both the arrays here\n",
    "\n",
    "# <END>\n",
    "\n",
    "assert z.shape == (2, 1)\n",
    "\n",
    "print(z)"
   ]
  },
  {
   "cell_type": "markdown",
   "metadata": {
    "id": "qQBkm2K9eMiu"
   },
   "source": [
    "### **Indexing & Slicing**\n",
    "Just like with normal arrays, you can access an element at the `(i,j)` position using `array[i][j]`.  \n",
    "However, NumPy allows you to do the same using `array[i, j]`, and this form is more efficient and simpler to use.\n",
    "<details>\n",
    "<summary><i>(Optional) Why is it more efficient?</i></summary>\n",
    "The former case is more inefficient as a new temporary array is created after the first index i, that is then indexed by j.\n",
    "</details>\n",
    "\n",
    "```python\n",
    "x = np.array([[1,3,5],[4,7,11],[5,10,20]])\n",
    "\n",
    "x[1][2] #11\n",
    "x[1,2]  #11 <-- Prefer this\n",
    "```"
   ]
  },
  {
   "cell_type": "markdown",
   "metadata": {
    "id": "ptZtfq3dUE25"
   },
   "source": [
    "Slicing is another important feature of NumPy arrays. The syntax is the same as that of slicing in Python lists.\n",
    "  We pass the slice as\n",
    "\n",
    "```python\n",
    "  sliced_array = array[start:end:step]\n",
    "  # The second colon (:) is only needed\n",
    "  # if you want to use a step other than 1\n",
    "```\n",
    "By default, `start` is 0, `end` is the array length (in that dimension), and `step` is 1.\n",
    "Remember that `end` is not included in the slice.\n",
    "\n",
    "  Implement array slicing as instructed in the following examples\n",
    "\n"
   ]
  },
  {
   "cell_type": "code",
   "execution_count": 14,
   "metadata": {
    "id": "Rb3_CEkYVHRV"
   },
   "outputs": [
    {
     "name": "stdout",
     "output_type": "stream",
     "text": [
      "[1 5 6]\n",
      "[1 3 5 7 9]\n"
     ]
    }
   ],
   "source": [
    "x = np.array([4, 1, 5, 6, 11])\n",
    "\n",
    "# <START>\n",
    "# Create a new array y with the middle 3 elements of x\n",
    "y = x[1:-1]\n",
    "# <END>\n",
    "\n",
    "print(y)\n",
    "\n",
    "z = np.array([1, 2, 3, 4, 5, 6, 7, 8, 9, 10])\n",
    "\n",
    "# <START>\n",
    "# Create a new array w with alternating elements of z\n",
    "w = z[::2]\n",
    "# <END>\n",
    "\n",
    "print(w)"
   ]
  },
  {
   "cell_type": "markdown",
   "metadata": {
    "id": "MeHuSp4YHjpT"
   },
   "source": [
    "A combination of indexing and slicing can be used to access rows, columns and sub-arrays of 2D arrays.\n",
    "\n",
    "```python\n",
    "arr = np.array([\n",
    "          [1, 2, 3],\n",
    "          [4, 5, 6],\n",
    "          [7, 8, 9]])\n",
    "\n",
    "print(arr[0])       #[1 2 3]\n",
    "print(arr[:,2])     #[3 6 9]\n",
    "print(arr[0:2,0:2]) #[[1 2]\n",
    "                    # [4 5]]\n",
    "```"
   ]
  },
  {
   "cell_type": "code",
   "execution_count": 16,
   "metadata": {
    "id": "mvrmhMiUHjMm"
   },
   "outputs": [
    {
     "name": "stdout",
     "output_type": "stream",
     "text": [
      "[[5 2]\n",
      " [7 9]\n",
      " [4 5]]\n"
     ]
    }
   ],
   "source": [
    "arr_2d = np.array([[4, 5, 2],\n",
    "          [3, 7, 9],\n",
    "          [1, 4, 5],\n",
    "          [6, 6, 1]])\n",
    "\n",
    "# <START>\n",
    "# Create a 2D array sliced_arr_2d that is of the form [[5, 2], [7, 9], [4, 5]]\n",
    "sliced_arr_2d = arr_2d[:-1,1:]\n",
    "# <END>\n",
    "\n",
    "print(sliced_arr_2d)"
   ]
  },
  {
   "cell_type": "markdown",
   "metadata": {
    "id": "3wusjBpUZ4YM"
   },
   "source": [
    "###**Broadcasting**\n",
    "\n",
    "This feature allows for flexibility in array operations. It lets us implement highly efficient algorithms with minimal use of memory."
   ]
  },
  {
   "cell_type": "code",
   "execution_count": 18,
   "metadata": {
    "id": "JMYM8LIYbKdV"
   },
   "outputs": [
    {
     "name": "stdout",
     "output_type": "stream",
     "text": [
      "[2 3 4 5]\n",
      "[[ 4  8 12]\n",
      " [20 25 30]]\n"
     ]
    }
   ],
   "source": [
    "arr1 = np.array([1, 2, 3, 4])\n",
    "b = 1\n",
    "\n",
    "# <START>\n",
    "# Implement broadcasting to add b to each element of arr1\n",
    "arr1 += b\n",
    "# <END>\n",
    "\n",
    "print(arr1)\n",
    "\n",
    "arr2 = np.array([[1, 2, 3],\n",
    "                 [4, 5, 6]])\n",
    "arr3 = np.array([[4],\n",
    "                 [5]])\n",
    "\n",
    "# <START>\n",
    "# Multiply each element of the first row of arr2 by 4 and each element of the second row by 5, using only arr2 and arr3\n",
    "arr2 *= arr3\n",
    "# <END>\n",
    "\n",
    "print(arr2)"
   ]
  },
  {
   "cell_type": "markdown",
   "metadata": {
    "id": "ZKz_znd7WfhP"
   },
   "source": [
    "### **Vectorization**\n",
    "\n",
    "From what we've covered so far, it might not be clear as to why we need to use vectorization. To understand this, let's compare the execution times of a non-vectorized program and a vectorized one.\n",
    "\n",
    "Your goal is to multiply each element of the 2D arrays by 3. Implement this using both non-vectorized and vectorized approaches."
   ]
  },
  {
   "cell_type": "code",
   "execution_count": 19,
   "metadata": {
    "id": "RheVdAh4WyA1"
   },
   "outputs": [
    {
     "name": "stdout",
     "output_type": "stream",
     "text": [
      "Time taken in non-vectorized approach: 94.7573184967041 ms\n",
      "Time taken in vectorized approach: 0.7672309875488281 ms\n"
     ]
    }
   ],
   "source": [
    "import time\n",
    "\n",
    "arr_nonvectorized = np.random.rand(1000, 1000)\n",
    "arr_vectorized = np.array(arr_nonvectorized) # making a deep copy of the array\n",
    "\n",
    "start_nv = time.time()\n",
    "\n",
    "# Non-vectorized approach\n",
    "# <START>\n",
    "\n",
    "arr_nonvectorized = [[3*val for val in row] for row in arr_nonvectorized]  \n",
    "\n",
    "# <END>\n",
    "\n",
    "end_nv = time.time()\n",
    "print(\"Time taken in non-vectorized approach:\", 1000*(end_nv-start_nv), \"ms\")\n",
    "\n",
    "# uncomment and execute the below line to convince yourself that both approaches are doing the same thing\n",
    "# print(arr_nonvectorized)\n",
    "\n",
    "start_v = time.time()\n",
    "\n",
    "# Vectorized approach\n",
    "# <START>\n",
    "arr_vectorized *= 3\n",
    "# <END>\n",
    "\n",
    "end_v = time.time()\n",
    "print(\"Time taken in vectorized approach:\", 1000*(end_v-start_v), \"ms\")\n",
    "\n",
    "# uncomment and execute the below line to convince yourself that both approaches are doing the same thing\n",
    "# print(arr_vectorized)"
   ]
  },
  {
   "cell_type": "markdown",
   "metadata": {
    "id": "W2FkvxAsbyzc"
   },
   "source": [
    "Try playing around with the dimensions of the array. You'll find that there isn't much difference in the execution times when the dimensions are small. But in neural networks, we often deal with very large datasets and so vectorization is a very important tool."
   ]
  }
 ],
 "metadata": {
  "colab": {
   "provenance": []
  },
  "kernelspec": {
   "display_name": "Python 3",
   "language": "python",
   "name": "python3"
  },
  "language_info": {
   "codemirror_mode": {
    "name": "ipython",
    "version": 3
   },
   "file_extension": ".py",
   "mimetype": "text/x-python",
   "name": "python",
   "nbconvert_exporter": "python",
   "pygments_lexer": "ipython3",
   "version": "3.12.2"
  }
 },
 "nbformat": 4,
 "nbformat_minor": 4
}
